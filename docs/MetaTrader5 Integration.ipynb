{
 "cells": [
  {
   "attachments": {},
   "cell_type": "markdown",
   "metadata": {},
   "source": [
    "# Metatrader 5 and Python integration"
   ]
  },
  {
   "attachments": {},
   "cell_type": "markdown",
   "metadata": {},
   "source": [
    "## 1 - Import requested libraries"
   ]
  },
  {
   "cell_type": "code",
   "execution_count": 1,
   "metadata": {},
   "outputs": [],
   "source": [
    "# Libraries dependencies\n",
    "import MetaTrader5 as mt5\n",
    "from datetime import datetime\n",
    "import pandas as pd\n",
    "\n",
    "# Project files\n",
    "from .classes.classes import MqlTradeResult, MqlTradeRequest, MqlAccountInfo, MqlPositionInfo\n",
    "from utils.trade import Trade"
   ]
  },
  {
   "attachments": {},
   "cell_type": "markdown",
   "metadata": {},
   "source": [
    "## 2 - Establish MetaTrader 5 connection to a specified trading account"
   ]
  },
  {
   "cell_type": "code",
   "execution_count": 2,
   "metadata": {},
   "outputs": [],
   "source": [
    "# Hedge account\n",
    "# if not mt5.initialize(login=5013424139, server=\"MetaQuotes-Demo\",password=\"pndvym2b\"):\n",
    "#     print(\"initialize() failed, error code =\",mt5.last_error())\n",
    "#     mt5.shutdown()\n",
    "    \n",
    "# Netting account\n",
    "if not mt5.initialize(login=5013526569, server=\"MetaQuotes-Demo\",password=\"h3xhhvuo\"):\n",
    "    print(\"initialize() failed, error code =\",mt5.last_error())\n",
    "    mt5.shutdown()"
   ]
  },
  {
   "attachments": {},
   "cell_type": "markdown",
   "metadata": {},
   "source": [
    "### 2.1 - Get the request connection status and parameters"
   ]
  },
  {
   "cell_type": "code",
   "execution_count": 3,
   "metadata": {},
   "outputs": [
    {
     "name": "stdout",
     "output_type": "stream",
     "text": [
      "terminal_info.connected = True\n",
      "terminal_info.company = 'MetaQuotes Software Corp.'\n",
      "terminal_info.name = 'MetaTrader 5'\n",
      "terminal_info.language = 'Portuguese (Brazil)'\n"
     ]
    }
   ],
   "source": [
    "terminal_info = mt5.terminal_info()\n",
    "\n",
    "print(f\"{terminal_info.connected = }\")\n",
    "print(f\"{terminal_info.company = }\")\n",
    "print(f\"{terminal_info.name = }\")\n",
    "print(f\"{terminal_info.language = }\")"
   ]
  },
  {
   "attachments": {},
   "cell_type": "markdown",
   "metadata": {},
   "source": [
    "### 2.2 - Get account info"
   ]
  },
  {
   "cell_type": "code",
   "execution_count": 2,
   "metadata": {},
   "outputs": [
    {
     "ename": "TypeError",
     "evalue": "MqlAccountInfo expected mt5.AccountInfo not NoneType",
     "output_type": "error",
     "traceback": [
      "\u001b[1;31m---------------------------------------------------------------------------\u001b[0m",
      "\u001b[1;31mTypeError\u001b[0m                                 Traceback (most recent call last)",
      "File \u001b[1;32mc:\\Users\\pedro\\OneDrive\\Documentos\\GitHub\\MT5 trading\\classes\\classes.py:370\u001b[0m, in \u001b[0;36mMqlAccountInfo.parse_account\u001b[1;34m(cls, account)\u001b[0m\n\u001b[0;32m    369\u001b[0m \u001b[39mif\u001b[39;00m \u001b[39mnot\u001b[39;00m \u001b[39misinstance\u001b[39m(account, mt5\u001b[39m.\u001b[39mAccountInfo):\n\u001b[1;32m--> 370\u001b[0m     \u001b[39mraise\u001b[39;00m \u001b[39mTypeError\u001b[39;00m\n\u001b[0;32m    372\u001b[0m dict_account \u001b[39m=\u001b[39m {\n\u001b[0;32m    373\u001b[0m     \u001b[39m\"\u001b[39m\u001b[39mlogin\u001b[39m\u001b[39m\"\u001b[39m: account\u001b[39m.\u001b[39mlogin,\n\u001b[0;32m    374\u001b[0m     \u001b[39m\"\u001b[39m\u001b[39mtrade_mode\u001b[39m\u001b[39m\"\u001b[39m: account\u001b[39m.\u001b[39mtrade_mode,\n\u001b[1;32m   (...)\u001b[0m\n\u001b[0;32m    400\u001b[0m     \u001b[39m\"\u001b[39m\u001b[39mcompany\u001b[39m\u001b[39m\"\u001b[39m: account\u001b[39m.\u001b[39mcompany,\n\u001b[0;32m    401\u001b[0m }\n",
      "\u001b[1;31mTypeError\u001b[0m: ",
      "\nDuring handling of the above exception, another exception occurred:\n",
      "\u001b[1;31mTypeError\u001b[0m                                 Traceback (most recent call last)",
      "Cell \u001b[1;32mIn[2], line 1\u001b[0m\n\u001b[1;32m----> 1\u001b[0m account_info \u001b[39m=\u001b[39m MqlAccountInfo\u001b[39m.\u001b[39;49mparse_account(mt5\u001b[39m.\u001b[39;49maccount_info())\n\u001b[0;32m      3\u001b[0m \u001b[39mprint\u001b[39m(\u001b[39mf\u001b[39m\u001b[39m\"\u001b[39m\u001b[39m{\u001b[39;00maccount_info\u001b[39m.\u001b[39mlogin\u001b[39m \u001b[39m\u001b[39m= }\u001b[39;00m\u001b[39m\"\u001b[39m)\n\u001b[0;32m      4\u001b[0m \u001b[39mprint\u001b[39m(\u001b[39mf\u001b[39m\u001b[39m\"\u001b[39m\u001b[39m{\u001b[39;00maccount_info\u001b[39m.\u001b[39mname\u001b[39m \u001b[39m\u001b[39m= }\u001b[39;00m\u001b[39m\"\u001b[39m)\n",
      "File \u001b[1;32mc:\\Users\\pedro\\OneDrive\\Documentos\\GitHub\\MT5 trading\\classes\\classes.py:404\u001b[0m, in \u001b[0;36mMqlAccountInfo.parse_account\u001b[1;34m(cls, account)\u001b[0m\n\u001b[0;32m    372\u001b[0m     dict_account \u001b[39m=\u001b[39m {\n\u001b[0;32m    373\u001b[0m         \u001b[39m\"\u001b[39m\u001b[39mlogin\u001b[39m\u001b[39m\"\u001b[39m: account\u001b[39m.\u001b[39mlogin,\n\u001b[0;32m    374\u001b[0m         \u001b[39m\"\u001b[39m\u001b[39mtrade_mode\u001b[39m\u001b[39m\"\u001b[39m: account\u001b[39m.\u001b[39mtrade_mode,\n\u001b[1;32m   (...)\u001b[0m\n\u001b[0;32m    400\u001b[0m         \u001b[39m\"\u001b[39m\u001b[39mcompany\u001b[39m\u001b[39m\"\u001b[39m: account\u001b[39m.\u001b[39mcompany,\n\u001b[0;32m    401\u001b[0m     }\n\u001b[0;32m    403\u001b[0m \u001b[39mexcept\u001b[39;00m (\u001b[39mTypeError\u001b[39;00m, \u001b[39mValueError\u001b[39;00m) \u001b[39mas\u001b[39;00m e:\n\u001b[1;32m--> 404\u001b[0m     \u001b[39mraise\u001b[39;00m \u001b[39mTypeError\u001b[39;00m(\n\u001b[0;32m    405\u001b[0m         \u001b[39mf\u001b[39m\u001b[39m\"\u001b[39m\u001b[39m{\u001b[39;00m\u001b[39mcls\u001b[39m\u001b[39m.\u001b[39m\u001b[39m__name__\u001b[39m\u001b[39m}\u001b[39;00m\u001b[39m expected mt5.AccountInfo not \u001b[39m\u001b[39m{\u001b[39;00maccount\u001b[39m.\u001b[39m\u001b[39m__class__\u001b[39m\u001b[39m.\u001b[39m\u001b[39m__name__\u001b[39m\u001b[39m}\u001b[39;00m\u001b[39m\"\u001b[39m\n\u001b[0;32m    406\u001b[0m     )\n\u001b[0;32m    407\u001b[0m \u001b[39mreturn\u001b[39;00m \u001b[39mcls\u001b[39m(\u001b[39m*\u001b[39m\u001b[39m*\u001b[39mdict_account)\n",
      "\u001b[1;31mTypeError\u001b[0m: MqlAccountInfo expected mt5.AccountInfo not NoneType"
     ]
    }
   ],
   "source": [
    "account_info = MqlAccountInfo.parse_account(mt5.account_info())\n",
    "\n",
    "print(f\"{account_info.login = }\")\n",
    "print(f\"{account_info.name = }\")\n",
    "print(f\"{account_info.currency = }\")\n",
    "print(f\"{account_info.leverage = }\")\n",
    "print(f\"{account_info.balance = }\")\n",
    "print(f\"{account_info.profit = }\")\n",
    "print(f\"{account_info.trade_mode.name = }\")\n",
    "print(f\"{account_info.margin_mode.name = }\")\n",
    "print(f\"{account_info.margin_so_mode.name = }\")"
   ]
  },
  {
   "attachments": {},
   "cell_type": "markdown",
   "metadata": {},
   "source": [
    "## 3 - Request data"
   ]
  },
  {
   "attachments": {},
   "cell_type": "markdown",
   "metadata": {},
   "source": [
    "### 3.1 - Request available symbols"
   ]
  },
  {
   "cell_type": "code",
   "execution_count": 5,
   "metadata": {},
   "outputs": [
    {
     "data": {
      "text/plain": [
       "{'AUDCAD',\n",
       " 'AUDCHF',\n",
       " 'AUDJPY',\n",
       " 'AUDNZD',\n",
       " 'AUDUSD',\n",
       " 'AUS200',\n",
       " 'CADCHF',\n",
       " 'CADJPY',\n",
       " 'CADMXN',\n",
       " 'CHFJPY',\n",
       " 'CHFMXN',\n",
       " 'EURAUD',\n",
       " 'EURCAD',\n",
       " 'EURCHF',\n",
       " 'EURCZK',\n",
       " 'EURDKK',\n",
       " 'EURGBP',\n",
       " 'EURHKD',\n",
       " 'EURHUF',\n",
       " 'EURJPY',\n",
       " 'EURMXN',\n",
       " 'EURNOK',\n",
       " 'EURNZD',\n",
       " 'EURPLN',\n",
       " 'EURRUB',\n",
       " 'EURRUR',\n",
       " 'EURSEK',\n",
       " 'EURTRY',\n",
       " 'EURUSD',\n",
       " 'EURZAR',\n",
       " 'FCHI40',\n",
       " 'GBPAUD',\n",
       " 'GBPCAD',\n",
       " 'GBPCHF',\n",
       " 'GBPJPY',\n",
       " 'GBPMXN',\n",
       " 'GBPNOK',\n",
       " 'GBPNZD',\n",
       " 'GBPPLN',\n",
       " 'GBPSEK',\n",
       " 'GBPSGD',\n",
       " 'GBPUSD',\n",
       " 'GBPZAR',\n",
       " 'GDAXIm',\n",
       " 'HSI50',\n",
       " 'MXNJPY',\n",
       " 'ND100m',\n",
       " 'NI225',\n",
       " 'NZDCAD',\n",
       " 'NZDCHF',\n",
       " 'NZDJPY',\n",
       " 'NZDMXN',\n",
       " 'NZDSGD',\n",
       " 'NZDUSD',\n",
       " 'SGDJPY',\n",
       " 'SP500m',\n",
       " 'SPN35',\n",
       " 'STOX50',\n",
       " 'UK100',\n",
       " 'USDARS',\n",
       " 'USDCAD',\n",
       " 'USDCHF',\n",
       " 'USDCLP',\n",
       " 'USDCNH',\n",
       " 'USDCOP',\n",
       " 'USDCRE',\n",
       " 'USDCZK',\n",
       " 'USDDKK',\n",
       " 'USDGEL',\n",
       " 'USDHKD',\n",
       " 'USDHUF',\n",
       " 'USDJPY',\n",
       " 'USDMXN',\n",
       " 'USDNOK',\n",
       " 'USDPLN',\n",
       " 'USDRUB',\n",
       " 'USDRUR',\n",
       " 'USDSEK',\n",
       " 'USDSGD',\n",
       " 'USDTRY',\n",
       " 'USDZAR',\n",
       " 'XAGEUR',\n",
       " 'XAGUSD',\n",
       " 'XAUAUD',\n",
       " 'XAUEUR',\n",
       " 'XAUUSD',\n",
       " 'XPDUSD',\n",
       " 'XPTUSD'}"
      ]
     },
     "execution_count": 5,
     "metadata": {},
     "output_type": "execute_result"
    }
   ],
   "source": [
    "symbols=mt5.symbols_get()\n",
    "symbols_name = {symbol.name for symbol in symbols}\n",
    "symbols_name"
   ]
  },
  {
   "attachments": {},
   "cell_type": "markdown",
   "metadata": {},
   "source": [
    "### 3.2 - Request ticks"
   ]
  },
  {
   "cell_type": "code",
   "execution_count": 6,
   "metadata": {},
   "outputs": [
    {
     "data": {
      "text/html": [
       "<div>\n",
       "<style scoped>\n",
       "    .dataframe tbody tr th:only-of-type {\n",
       "        vertical-align: middle;\n",
       "    }\n",
       "\n",
       "    .dataframe tbody tr th {\n",
       "        vertical-align: top;\n",
       "    }\n",
       "\n",
       "    .dataframe thead th {\n",
       "        text-align: right;\n",
       "    }\n",
       "</style>\n",
       "<table border=\"1\" class=\"dataframe\">\n",
       "  <thead>\n",
       "    <tr style=\"text-align: right;\">\n",
       "      <th></th>\n",
       "      <th>time</th>\n",
       "      <th>bid</th>\n",
       "      <th>ask</th>\n",
       "      <th>last</th>\n",
       "      <th>volume</th>\n",
       "      <th>time_msc</th>\n",
       "      <th>flags</th>\n",
       "      <th>volume_real</th>\n",
       "    </tr>\n",
       "  </thead>\n",
       "  <tbody>\n",
       "    <tr>\n",
       "      <th>0</th>\n",
       "      <td>2023-05-01 16:00:00</td>\n",
       "      <td>1.65634</td>\n",
       "      <td>1.65641</td>\n",
       "      <td>0.0</td>\n",
       "      <td>0</td>\n",
       "      <td>1682956800151</td>\n",
       "      <td>134</td>\n",
       "      <td>0.0</td>\n",
       "    </tr>\n",
       "    <tr>\n",
       "      <th>1</th>\n",
       "      <td>2023-05-01 16:00:00</td>\n",
       "      <td>1.65631</td>\n",
       "      <td>1.65638</td>\n",
       "      <td>0.0</td>\n",
       "      <td>0</td>\n",
       "      <td>1682956800653</td>\n",
       "      <td>134</td>\n",
       "      <td>0.0</td>\n",
       "    </tr>\n",
       "    <tr>\n",
       "      <th>2</th>\n",
       "      <td>2023-05-01 16:00:00</td>\n",
       "      <td>1.65634</td>\n",
       "      <td>1.65641</td>\n",
       "      <td>0.0</td>\n",
       "      <td>0</td>\n",
       "      <td>1682956800748</td>\n",
       "      <td>134</td>\n",
       "      <td>0.0</td>\n",
       "    </tr>\n",
       "    <tr>\n",
       "      <th>3</th>\n",
       "      <td>2023-05-01 16:00:00</td>\n",
       "      <td>1.65631</td>\n",
       "      <td>1.65638</td>\n",
       "      <td>0.0</td>\n",
       "      <td>0</td>\n",
       "      <td>1682956800849</td>\n",
       "      <td>134</td>\n",
       "      <td>0.0</td>\n",
       "    </tr>\n",
       "    <tr>\n",
       "      <th>4</th>\n",
       "      <td>2023-05-01 16:00:00</td>\n",
       "      <td>1.65637</td>\n",
       "      <td>1.65644</td>\n",
       "      <td>0.0</td>\n",
       "      <td>0</td>\n",
       "      <td>1682956800960</td>\n",
       "      <td>134</td>\n",
       "      <td>0.0</td>\n",
       "    </tr>\n",
       "    <tr>\n",
       "      <th>...</th>\n",
       "      <td>...</td>\n",
       "      <td>...</td>\n",
       "      <td>...</td>\n",
       "      <td>...</td>\n",
       "      <td>...</td>\n",
       "      <td>...</td>\n",
       "      <td>...</td>\n",
       "      <td>...</td>\n",
       "    </tr>\n",
       "    <tr>\n",
       "      <th>995</th>\n",
       "      <td>2023-05-01 16:07:26</td>\n",
       "      <td>1.65572</td>\n",
       "      <td>1.65579</td>\n",
       "      <td>0.0</td>\n",
       "      <td>0</td>\n",
       "      <td>1682957246346</td>\n",
       "      <td>134</td>\n",
       "      <td>0.0</td>\n",
       "    </tr>\n",
       "    <tr>\n",
       "      <th>996</th>\n",
       "      <td>2023-05-01 16:07:27</td>\n",
       "      <td>1.65573</td>\n",
       "      <td>1.65580</td>\n",
       "      <td>0.0</td>\n",
       "      <td>0</td>\n",
       "      <td>1682957247056</td>\n",
       "      <td>134</td>\n",
       "      <td>0.0</td>\n",
       "    </tr>\n",
       "    <tr>\n",
       "      <th>997</th>\n",
       "      <td>2023-05-01 16:07:28</td>\n",
       "      <td>1.65574</td>\n",
       "      <td>1.65581</td>\n",
       "      <td>0.0</td>\n",
       "      <td>0</td>\n",
       "      <td>1682957248258</td>\n",
       "      <td>134</td>\n",
       "      <td>0.0</td>\n",
       "    </tr>\n",
       "    <tr>\n",
       "      <th>998</th>\n",
       "      <td>2023-05-01 16:07:28</td>\n",
       "      <td>1.65581</td>\n",
       "      <td>1.65588</td>\n",
       "      <td>0.0</td>\n",
       "      <td>0</td>\n",
       "      <td>1682957248356</td>\n",
       "      <td>134</td>\n",
       "      <td>0.0</td>\n",
       "    </tr>\n",
       "    <tr>\n",
       "      <th>999</th>\n",
       "      <td>2023-05-01 16:07:28</td>\n",
       "      <td>1.65577</td>\n",
       "      <td>1.65584</td>\n",
       "      <td>0.0</td>\n",
       "      <td>0</td>\n",
       "      <td>1682957248562</td>\n",
       "      <td>134</td>\n",
       "      <td>0.0</td>\n",
       "    </tr>\n",
       "  </tbody>\n",
       "</table>\n",
       "<p>1000 rows × 8 columns</p>\n",
       "</div>"
      ],
      "text/plain": [
       "                   time      bid      ask  last  volume       time_msc  flags  \\\n",
       "0   2023-05-01 16:00:00  1.65634  1.65641   0.0       0  1682956800151    134   \n",
       "1   2023-05-01 16:00:00  1.65631  1.65638   0.0       0  1682956800653    134   \n",
       "2   2023-05-01 16:00:00  1.65634  1.65641   0.0       0  1682956800748    134   \n",
       "3   2023-05-01 16:00:00  1.65631  1.65638   0.0       0  1682956800849    134   \n",
       "4   2023-05-01 16:00:00  1.65637  1.65644   0.0       0  1682956800960    134   \n",
       "..                  ...      ...      ...   ...     ...            ...    ...   \n",
       "995 2023-05-01 16:07:26  1.65572  1.65579   0.0       0  1682957246346    134   \n",
       "996 2023-05-01 16:07:27  1.65573  1.65580   0.0       0  1682957247056    134   \n",
       "997 2023-05-01 16:07:28  1.65574  1.65581   0.0       0  1682957248258    134   \n",
       "998 2023-05-01 16:07:28  1.65581  1.65588   0.0       0  1682957248356    134   \n",
       "999 2023-05-01 16:07:28  1.65577  1.65584   0.0       0  1682957248562    134   \n",
       "\n",
       "     volume_real  \n",
       "0            0.0  \n",
       "1            0.0  \n",
       "2            0.0  \n",
       "3            0.0  \n",
       "4            0.0  \n",
       "..           ...  \n",
       "995          0.0  \n",
       "996          0.0  \n",
       "997          0.0  \n",
       "998          0.0  \n",
       "999          0.0  \n",
       "\n",
       "[1000 rows x 8 columns]"
      ]
     },
     "execution_count": 6,
     "metadata": {},
     "output_type": "execute_result"
    }
   ],
   "source": [
    "# request 1000 ticks from EURAUD\n",
    "euraud_ticks = mt5.copy_ticks_from(\"EURAUD\", datetime(2023,5,1,13), 1_000, mt5.COPY_TICKS_ALL)\n",
    "euraud_ticks = pd.DataFrame(euraud_ticks)\n",
    "\n",
    "# convert time in seconds into the datetime format\n",
    "euraud_ticks['time']=pd.to_datetime(euraud_ticks['time'], unit='s')\n",
    "euraud_ticks"
   ]
  },
  {
   "attachments": {},
   "cell_type": "markdown",
   "metadata": {},
   "source": [
    "### 3.3 - Request candles"
   ]
  },
  {
   "cell_type": "code",
   "execution_count": 7,
   "metadata": {},
   "outputs": [
    {
     "data": {
      "text/html": [
       "<div>\n",
       "<style scoped>\n",
       "    .dataframe tbody tr th:only-of-type {\n",
       "        vertical-align: middle;\n",
       "    }\n",
       "\n",
       "    .dataframe tbody tr th {\n",
       "        vertical-align: top;\n",
       "    }\n",
       "\n",
       "    .dataframe thead th {\n",
       "        text-align: right;\n",
       "    }\n",
       "</style>\n",
       "<table border=\"1\" class=\"dataframe\">\n",
       "  <thead>\n",
       "    <tr style=\"text-align: right;\">\n",
       "      <th></th>\n",
       "      <th>time</th>\n",
       "      <th>open</th>\n",
       "      <th>high</th>\n",
       "      <th>low</th>\n",
       "      <th>close</th>\n",
       "      <th>tick_volume</th>\n",
       "      <th>spread</th>\n",
       "      <th>real_volume</th>\n",
       "    </tr>\n",
       "  </thead>\n",
       "  <tbody>\n",
       "    <tr>\n",
       "      <th>0</th>\n",
       "      <td>2023-05-16 12:30:00</td>\n",
       "      <td>0.86911</td>\n",
       "      <td>0.86927</td>\n",
       "      <td>0.86905</td>\n",
       "      <td>0.86920</td>\n",
       "      <td>356</td>\n",
       "      <td>1</td>\n",
       "      <td>0</td>\n",
       "    </tr>\n",
       "    <tr>\n",
       "      <th>1</th>\n",
       "      <td>2023-05-16 12:35:00</td>\n",
       "      <td>0.86920</td>\n",
       "      <td>0.86930</td>\n",
       "      <td>0.86897</td>\n",
       "      <td>0.86902</td>\n",
       "      <td>246</td>\n",
       "      <td>1</td>\n",
       "      <td>0</td>\n",
       "    </tr>\n",
       "    <tr>\n",
       "      <th>2</th>\n",
       "      <td>2023-05-16 12:40:00</td>\n",
       "      <td>0.86902</td>\n",
       "      <td>0.86919</td>\n",
       "      <td>0.86894</td>\n",
       "      <td>0.86918</td>\n",
       "      <td>219</td>\n",
       "      <td>1</td>\n",
       "      <td>0</td>\n",
       "    </tr>\n",
       "    <tr>\n",
       "      <th>3</th>\n",
       "      <td>2023-05-16 12:45:00</td>\n",
       "      <td>0.86919</td>\n",
       "      <td>0.86936</td>\n",
       "      <td>0.86913</td>\n",
       "      <td>0.86935</td>\n",
       "      <td>209</td>\n",
       "      <td>1</td>\n",
       "      <td>0</td>\n",
       "    </tr>\n",
       "    <tr>\n",
       "      <th>4</th>\n",
       "      <td>2023-05-16 12:50:00</td>\n",
       "      <td>0.86935</td>\n",
       "      <td>0.86955</td>\n",
       "      <td>0.86925</td>\n",
       "      <td>0.86927</td>\n",
       "      <td>243</td>\n",
       "      <td>1</td>\n",
       "      <td>0</td>\n",
       "    </tr>\n",
       "    <tr>\n",
       "      <th>...</th>\n",
       "      <td>...</td>\n",
       "      <td>...</td>\n",
       "      <td>...</td>\n",
       "      <td>...</td>\n",
       "      <td>...</td>\n",
       "      <td>...</td>\n",
       "      <td>...</td>\n",
       "      <td>...</td>\n",
       "    </tr>\n",
       "    <tr>\n",
       "      <th>995</th>\n",
       "      <td>2023-05-19 23:35:00</td>\n",
       "      <td>0.86826</td>\n",
       "      <td>0.86833</td>\n",
       "      <td>0.86818</td>\n",
       "      <td>0.86827</td>\n",
       "      <td>206</td>\n",
       "      <td>0</td>\n",
       "      <td>0</td>\n",
       "    </tr>\n",
       "    <tr>\n",
       "      <th>996</th>\n",
       "      <td>2023-05-19 23:40:00</td>\n",
       "      <td>0.86827</td>\n",
       "      <td>0.86838</td>\n",
       "      <td>0.86823</td>\n",
       "      <td>0.86835</td>\n",
       "      <td>148</td>\n",
       "      <td>0</td>\n",
       "      <td>0</td>\n",
       "    </tr>\n",
       "    <tr>\n",
       "      <th>997</th>\n",
       "      <td>2023-05-19 23:45:00</td>\n",
       "      <td>0.86835</td>\n",
       "      <td>0.86846</td>\n",
       "      <td>0.86830</td>\n",
       "      <td>0.86834</td>\n",
       "      <td>185</td>\n",
       "      <td>0</td>\n",
       "      <td>0</td>\n",
       "    </tr>\n",
       "    <tr>\n",
       "      <th>998</th>\n",
       "      <td>2023-05-19 23:50:00</td>\n",
       "      <td>0.86834</td>\n",
       "      <td>0.86836</td>\n",
       "      <td>0.86809</td>\n",
       "      <td>0.86811</td>\n",
       "      <td>251</td>\n",
       "      <td>0</td>\n",
       "      <td>0</td>\n",
       "    </tr>\n",
       "    <tr>\n",
       "      <th>999</th>\n",
       "      <td>2023-05-19 23:55:00</td>\n",
       "      <td>0.86811</td>\n",
       "      <td>0.86811</td>\n",
       "      <td>0.86811</td>\n",
       "      <td>0.86811</td>\n",
       "      <td>1</td>\n",
       "      <td>0</td>\n",
       "      <td>0</td>\n",
       "    </tr>\n",
       "  </tbody>\n",
       "</table>\n",
       "<p>1000 rows × 8 columns</p>\n",
       "</div>"
      ],
      "text/plain": [
       "                   time     open     high      low    close  tick_volume  \\\n",
       "0   2023-05-16 12:30:00  0.86911  0.86927  0.86905  0.86920          356   \n",
       "1   2023-05-16 12:35:00  0.86920  0.86930  0.86897  0.86902          246   \n",
       "2   2023-05-16 12:40:00  0.86902  0.86919  0.86894  0.86918          219   \n",
       "3   2023-05-16 12:45:00  0.86919  0.86936  0.86913  0.86935          209   \n",
       "4   2023-05-16 12:50:00  0.86935  0.86955  0.86925  0.86927          243   \n",
       "..                  ...      ...      ...      ...      ...          ...   \n",
       "995 2023-05-19 23:35:00  0.86826  0.86833  0.86818  0.86827          206   \n",
       "996 2023-05-19 23:40:00  0.86827  0.86838  0.86823  0.86835          148   \n",
       "997 2023-05-19 23:45:00  0.86835  0.86846  0.86830  0.86834          185   \n",
       "998 2023-05-19 23:50:00  0.86834  0.86836  0.86809  0.86811          251   \n",
       "999 2023-05-19 23:55:00  0.86811  0.86811  0.86811  0.86811            1   \n",
       "\n",
       "     spread  real_volume  \n",
       "0         1            0  \n",
       "1         1            0  \n",
       "2         1            0  \n",
       "3         1            0  \n",
       "4         1            0  \n",
       "..      ...          ...  \n",
       "995       0            0  \n",
       "996       0            0  \n",
       "997       0            0  \n",
       "998       0            0  \n",
       "999       0            0  \n",
       "\n",
       "[1000 rows x 8 columns]"
      ]
     },
     "execution_count": 7,
     "metadata": {},
     "output_type": "execute_result"
    }
   ],
   "source": [
    "# get bars from different symbols\n",
    "eurgbp_rates = mt5.copy_rates_from_pos(\"EURGBP\", mt5.TIMEFRAME_M5, 0, 1_000)\n",
    "eurgbp_rates = pd.DataFrame(eurgbp_rates)\n",
    "\n",
    "# convert time in seconds into the datetime format\n",
    "eurgbp_rates['time']=pd.to_datetime(eurgbp_rates['time'], unit='s')\n",
    "eurgbp_rates"
   ]
  },
  {
   "attachments": {},
   "cell_type": "markdown",
   "metadata": {},
   "source": [
    "## 4 - Send an order request"
   ]
  },
  {
   "attachments": {},
   "cell_type": "markdown",
   "metadata": {},
   "source": [
    "### 4.1 - Send the order"
   ]
  },
  {
   "cell_type": "code",
   "execution_count": 14,
   "metadata": {},
   "outputs": [
    {
     "name": "stdout",
     "output_type": "stream",
     "text": [
      "Open pending order: Error 10018 - Market closed\n",
      "Result: (Return Code) 10018 - (Comment) Market closed\n",
      "Order type: BUY_STOP\n",
      "Order ticket: 0\n",
      "Symbol: USDJPY\n",
      "Volume: 0.0\n",
      "Price: 0.0\n",
      "Bid: 0.0\n",
      "Ask: 0.0\n"
     ]
    }
   ],
   "source": [
    "symbol = \"USDJPY\"\n",
    "lot = 100\n",
    "deviation = 20\n",
    "magic = 707070\n",
    "\n",
    "# Pending parameters\n",
    "price = 139\n",
    "expiration = datetime(2023, 5, 29)\n",
    "\n",
    "trades = Trade(deviation=deviation, magic_number=magic)\n",
    "\n",
    "send_success = trades.buy_stop(symbol=symbol, volume=lot, price=price, expiration=expiration)"
   ]
  },
  {
   "attachments": {},
   "cell_type": "markdown",
   "metadata": {},
   "source": [
    "### 4.2 - Get the last result"
   ]
  },
  {
   "cell_type": "code",
   "execution_count": 9,
   "metadata": {},
   "outputs": [
    {
     "data": {
      "text/plain": [
       "MqlTradeResult(retcode=<ENUM_TRADE_RETCODE.TRADE_RETCODE_MARKET_CLOSED: 10018>, deal=0, order=0, volume=0.0, price=0.0, bid=0.0, ask=0.0, comment='Market closed', request_id=4112016318, retcode_external=0, request=MqlTradeRequest(action=<ENUM_TRADE_REQUEST_ACTIONS.TRADE_ACTION_PENDING: 5>, symbol='USDJPY', magic=707070, order=0, volume=100.0, price=139.0, stoplimit=0.0, sl=0.0, tp=0.0, deviation=20, type=<ENUM_ORDER_TYPE.ORDER_TYPE_BUY_STOP: 4>, type_filling=<ENUM_ORDER_TYPE_FILLING.ORDER_FILLING_FOK: 0>, type_time=<ENUM_ORDER_TYPE_TIME.ORDER_TIME_SPECIFIED: 2>, expiration=datetime.datetime(2023, 5, 29, 0, 0, tzinfo=<UTC>), comment='', position=0, position_by=0))"
      ]
     },
     "execution_count": 9,
     "metadata": {},
     "output_type": "execute_result"
    }
   ],
   "source": [
    "trades.last_result"
   ]
  },
  {
   "cell_type": "code",
   "execution_count": 10,
   "metadata": {},
   "outputs": [
    {
     "data": {
      "text/plain": [
       "{'ticket': 50459828331,\n",
       " 'time_setup': 1684539842,\n",
       " 'time_setup_msc': 1684539842112,\n",
       " 'time_done': 0,\n",
       " 'time_done_msc': 0,\n",
       " 'time_expiration': 1685318400,\n",
       " 'type': 4,\n",
       " 'type_time': 2,\n",
       " 'type_filling': 2,\n",
       " 'state': 1,\n",
       " 'magic': 707070,\n",
       " 'position_id': 0,\n",
       " 'position_by_id': 0,\n",
       " 'reason': 3,\n",
       " 'volume_initial': 100.0,\n",
       " 'volume_current': 100.0,\n",
       " 'price_open': 139.0,\n",
       " 'sl': 0.0,\n",
       " 'tp': 0.0,\n",
       " 'price_current': 137.979,\n",
       " 'price_stoplimit': 0.0,\n",
       " 'symbol': 'USDJPY',\n",
       " 'comment': '',\n",
       " 'external_id': ''}"
      ]
     },
     "execution_count": 10,
     "metadata": {},
     "output_type": "execute_result"
    }
   ],
   "source": [
    "a = mt5.orders_get()[0]._asdict()\n",
    "a"
   ]
  },
  {
   "cell_type": "code",
   "execution_count": 11,
   "metadata": {},
   "outputs": [
    {
     "data": {
      "text/plain": [
       "datetime.datetime(2023, 5, 28, 21, 0)"
      ]
     },
     "execution_count": 11,
     "metadata": {},
     "output_type": "execute_result"
    }
   ],
   "source": [
    "datetime.fromtimestamp(a[\"time_expiration\"])"
   ]
  },
  {
   "cell_type": "code",
   "execution_count": 16,
   "metadata": {},
   "outputs": [
    {
     "data": {
      "text/plain": [
       "1685318400.0"
      ]
     },
     "execution_count": 16,
     "metadata": {},
     "output_type": "execute_result"
    }
   ],
   "source": [
    "from datetime import timezone\n",
    "import pytz\n",
    "utc = pytz.timezone(\"UTC\")\n",
    "sp = pytz.timezone(\"America/Sao_Paulo\")\n",
    "\n",
    "a = datetime(2023, 5, 29, 0, 0)\n",
    "a = utc.localize(a)\n",
    "\n",
    "a = a.astimezone(sp)\n",
    "\n",
    "a.timestamp()"
   ]
  },
  {
   "cell_type": "code",
   "execution_count": null,
   "metadata": {},
   "outputs": [],
   "source": []
  }
 ],
 "metadata": {
  "kernelspec": {
   "display_name": "Python 3",
   "language": "python",
   "name": "python3"
  },
  "language_info": {
   "codemirror_mode": {
    "name": "ipython",
    "version": 3
   },
   "file_extension": ".py",
   "mimetype": "text/x-python",
   "name": "python",
   "nbconvert_exporter": "python",
   "pygments_lexer": "ipython3",
   "version": "3.11.3"
  },
  "orig_nbformat": 4
 },
 "nbformat": 4,
 "nbformat_minor": 2
}
