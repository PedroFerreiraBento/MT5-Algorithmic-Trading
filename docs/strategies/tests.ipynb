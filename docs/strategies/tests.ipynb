{
 "cells": [
  {
   "cell_type": "code",
   "execution_count": 1,
   "metadata": {},
   "outputs": [],
   "source": [
    "# Libraries dependencies\n",
    "import MetaTrader5 as mt5\n",
    "from datetime import datetime\n",
    "import pandas as pd\n",
    "import numpy as np\n",
    "from datetime import datetime\n",
    "\n",
    "# Project files\n",
    "from AlgorithmicTrading.models.metatrader import MqlTradeRequest, MqlPositionInfo, MqlAccountInfo, MqlTradeOrder, ENUM_ORDER_TYPE_MARKET\n",
    "from AlgorithmicTrading.trade import Trade\n",
    "from AlgorithmicTrading.account import AccountBacktest, AccountLive\n",
    "from AlgorithmicTrading.rates import Rates"
   ]
  },
  {
   "cell_type": "code",
   "execution_count": 2,
   "metadata": {},
   "outputs": [
    {
     "name": "stdout",
     "output_type": "stream",
     "text": [
      "[INFO]: Successfull login to #5013526569 account\n"
     ]
    },
    {
     "data": {
      "text/plain": [
       "MqlAccountInfo(login=5013526569, trade_mode=<ENUM_ACCOUNT_TRADE_MODE.ACCOUNT_TRADE_MODE_DEMO: 0>, leverage=100, limit_orders=100, margin_so_mode=<ENUM_ACCOUNT_STOPOUT_MODE.ACCOUNT_STOPOUT_MODE_PERCENT: 0>, trade_allowed=True, trade_expert=True, margin_mode=<ENUM_ACCOUNT_MARGIN_MODE.ACCOUNT_MARGIN_MODE_RETAIL_NETTING: 0>, currency_digits=2, fifo_close=False, balance=4936.46, credit=0.0, profit=-55.42, equity=4881.04, margin=790.0, margin_free=4091.04, margin_level=617.853164556962, margin_so_call=50.0, margin_so_so=30.0, margin_initial=0.0, margin_maintenance=0.0, assets=0.0, liabilities=0.0, commission_blocked=0.0, name='Pedro Bento', server='MetaQuotes-Demo', currency='USD', company='MetaQuotes Software Corp.', orders=[MqlTradeOrder(ticket=50473496492, time_setup=datetime.datetime(2023, 5, 31, 23, 9, 37, tzinfo=datetime.timezone.utc), time_setup_msc=datetime.datetime(2023, 5, 31, 23, 9, 37, 139000, tzinfo=datetime.timezone.utc), time_done=None, time_done_msc=None, time_expiration=None, type=<ENUM_ORDER_TYPE.ORDER_TYPE_BUY_STOP: 4>, type_time=<ENUM_ORDER_TYPE_TIME.ORDER_TIME_GTC: 0>, type_filling=<ENUM_ORDER_TYPE_FILLING.ORDER_FILLING_RETURN: 2>, state=<ENUM_ORDER_STATE.ORDER_STATE_PLACED: 1>, magic=0, position_id=0, position_by_id=0, reason=<ENUM_ORDER_REASON.ORDER_REASON_CLIENT: 0>, volume_initial=0.79, volume_current=0.79, price_open=139.844, sl=0.0, tp=0.0, price_current=139.413, price_stoplimit=0.0, symbol='USDJPY', comment='', external_id='')], positions=[MqlPositionInfo(ticket=50473496388, time=datetime.datetime(2023, 5, 31, 23, 9, 28, tzinfo=datetime.timezone.utc), time_msc=datetime.datetime(2023, 5, 31, 23, 9, 28, 480000, tzinfo=datetime.timezone.utc), time_update=datetime.datetime(2023, 5, 31, 23, 9, 28, tzinfo=datetime.timezone.utc), time_update_msc=datetime.datetime(2023, 5, 31, 23, 9, 28, 480000, tzinfo=datetime.timezone.utc), type=<ENUM_POSITION_TYPE.POSITION_TYPE_SELL: 1>, magic=0, identifier=50473496388, reason=0, volume=0.79, price_open=139.317, sl=0.0, tp=0.0, price_current=139.413, swap=-1.02, profit=-54.4, symbol='USDJPY', comment='', external_id='')], history_deals=[MqlTradeDeal(ticket=50459472357, order=0, time=datetime.datetime(2023, 5, 19, 20, 52, 50, tzinfo=datetime.timezone.utc), time_msc=1684529570764, type=<ENUM_DEAL_TYPE.DEAL_TYPE_BALANCE: 2>, entry=<ENUM_DEAL_ENTRY.DEAL_ENTRY_IN: 0>, magic=0, position_id=0, reason=<ENUM_DEAL_REASON.DEAL_REASON_CLIENT: 0>, volume=0.0, price=0.0, commission=0.0, swap=0.0, profit=5000.0, fee=0.0, symbol='', comment='', external_id='')], is_backtest_account=False)"
      ]
     },
     "execution_count": 2,
     "metadata": {},
     "output_type": "execute_result"
    }
   ],
   "source": [
    "# Hedge account\n",
    "# AccountLive.login(login=5013424139, server=\"MetaQuotes-Demo\", password=\"pndvym2b\")\n",
    "account = AccountLive.login(login=5013526569, server=\"MetaQuotes-Demo\", password=\"h3xhhvuo\")\n",
    "account"
   ]
  },
  {
   "cell_type": "code",
   "execution_count": null,
   "metadata": {},
   "outputs": [],
   "source": [
    "orders = pd.DataFrame.from_records(\n",
    "    [\n",
    "        MqlTradeOrder.parse_order(orders).dict()\n",
    "        for orders in mt5.orders_get()\n",
    "    ]\n",
    ")\n",
    "\n",
    "# Set ticket as index\n",
    "orders.set_index(\"ticket\", inplace=True)\n",
    "\n",
    "orders"
   ]
  },
  {
   "attachments": {},
   "cell_type": "markdown",
   "metadata": {},
   "source": [
    "A"
   ]
  },
  {
   "cell_type": "code",
   "execution_count": null,
   "metadata": {},
   "outputs": [],
   "source": [
    "mt5.history_deals_get(\n",
    "   datetime(1970, 1, 2),\n",
    "   datetime.utcnow(),\n",
    "   group=\"*\"\n",
    ")[0]._asdict()"
   ]
  },
  {
   "cell_type": "code",
   "execution_count": null,
   "metadata": {},
   "outputs": [],
   "source": [
    "mt5.history_deals_get(\n",
    "      datetime(1970, 1, 2),\n",
    "      datetime.utcnow(),\n",
    "   group=\"*\",\n",
    ")\n"
   ]
  },
  {
   "cell_type": "code",
   "execution_count": null,
   "metadata": {},
   "outputs": [],
   "source": [
    "a = mt5.symbol_info(\"USDJPY\")\n",
    "print(f\"{a.askhigh = }\")\n",
    "print(f\"{a.ask = }\")\n",
    "print(f\"{a.asklow = }\")\n"
   ]
  },
  {
   "cell_type": "code",
   "execution_count": 6,
   "metadata": {},
   "outputs": [
    {
     "name": "stdout",
     "output_type": "stream",
     "text": [
      "(<AlgorithmicTrading.trade.trade.Trade object at 0x0000013933CA6CD0>,)\n",
      "Result: (Return Code) 10009 - (Comment) Request executed\n",
      "Order type: BUY\n",
      "Order ticket: 50473528922\n",
      "Symbol: USDJPY\n",
      "Volume: 0.1\n",
      "Price: 139.413\n",
      "Bid: 139.302\n",
      "Ask: 139.413\n"
     ]
    },
    {
     "data": {
      "text/plain": [
       "True"
      ]
     },
     "execution_count": 6,
     "metadata": {},
     "output_type": "execute_result"
    }
   ],
   "source": [
    "Trade(account_data=account).buy(symbol=\"USDJPY\", volume=0.1)"
   ]
  }
 ],
 "metadata": {
  "kernelspec": {
   "display_name": "Python 3",
   "language": "python",
   "name": "python3"
  },
  "language_info": {
   "codemirror_mode": {
    "name": "ipython",
    "version": 3
   },
   "file_extension": ".py",
   "mimetype": "text/x-python",
   "name": "python",
   "nbconvert_exporter": "python",
   "pygments_lexer": "ipython3",
   "version": "3.11.3"
  },
  "orig_nbformat": 4
 },
 "nbformat": 4,
 "nbformat_minor": 2
}
